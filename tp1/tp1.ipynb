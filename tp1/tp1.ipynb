{
 "cells": [
  {
   "cell_type": "code",
   "execution_count": 5,
   "metadata": {},
   "outputs": [],
   "source": [
    "from pymongo import MongoClient"
   ]
  },
  {
   "cell_type": "code",
   "execution_count": 6,
   "metadata": {},
   "outputs": [],
   "source": [
    "client = MongoClient(\"mongodb+srv://<user>:<pasaword>@cluster0.ws4ucxc.mongodb.net/\")"
   ]
  },
  {
   "cell_type": "code",
   "execution_count": 7,
   "metadata": {},
   "outputs": [],
   "source": [
    "db = client['finanzas']\n",
    "collection = db['facturas']"
   ]
  },
  {
   "cell_type": "code",
   "execution_count": 42,
   "metadata": {},
   "outputs": [],
   "source": [
    "import pandas as pd\n",
    "\n",
    "def run_pipeline_and_return_df(collection, pipeline):\n",
    "    results = collection.aggregate(pipeline)\n",
    "    results_list = list(results)\n",
    "    if len(results_list) == 0:\n",
    "        print(\"No hay resultados\")\n",
    "    else:\n",
    "        return pd.DataFrame(results_list)"
   ]
  },
  {
   "cell_type": "markdown",
   "metadata": {},
   "source": [
    "#### **1.** Realizar una consulta que devuelva la siguiente información: Región y cantidad total de productos vendidos a clientes de esa Región."
   ]
  },
  {
   "cell_type": "code",
   "execution_count": 10,
   "metadata": {},
   "outputs": [
    {
     "data": {
      "text/html": [
       "<div>\n",
       "<style scoped>\n",
       "    .dataframe tbody tr th:only-of-type {\n",
       "        vertical-align: middle;\n",
       "    }\n",
       "\n",
       "    .dataframe tbody tr th {\n",
       "        vertical-align: top;\n",
       "    }\n",
       "\n",
       "    .dataframe thead th {\n",
       "        text-align: right;\n",
       "    }\n",
       "</style>\n",
       "<table border=\"1\" class=\"dataframe\">\n",
       "  <thead>\n",
       "    <tr style=\"text-align: right;\">\n",
       "      <th></th>\n",
       "      <th>_id</th>\n",
       "      <th>totalProductosVendidos</th>\n",
       "    </tr>\n",
       "  </thead>\n",
       "  <tbody>\n",
       "    <tr>\n",
       "      <th>0</th>\n",
       "      <td>NEA</td>\n",
       "      <td>420</td>\n",
       "    </tr>\n",
       "    <tr>\n",
       "      <th>1</th>\n",
       "      <td>CABA</td>\n",
       "      <td>282</td>\n",
       "    </tr>\n",
       "    <tr>\n",
       "      <th>2</th>\n",
       "      <td>CENTRO</td>\n",
       "      <td>180</td>\n",
       "    </tr>\n",
       "    <tr>\n",
       "      <th>3</th>\n",
       "      <td>NOA</td>\n",
       "      <td>14</td>\n",
       "    </tr>\n",
       "  </tbody>\n",
       "</table>\n",
       "</div>"
      ],
      "text/plain": [
       "      _id  totalProductosVendidos\n",
       "0     NEA                     420\n",
       "1    CABA                     282\n",
       "2  CENTRO                     180\n",
       "3     NOA                      14"
      ]
     },
     "execution_count": 10,
     "metadata": {},
     "output_type": "execute_result"
    }
   ],
   "source": [
    "pipeline = [\n",
    "    { \"$unwind\": \"$item\" },\n",
    "    {\n",
    "        \"$group\": {\n",
    "            \"_id\": \"$cliente.region\",\n",
    "            \"totalProductosVendidos\": { \"$sum\": \"$item.cantidad\" }\n",
    "        }\n",
    "    }\n",
    "]\n",
    "\n",
    "run_pipeline_and_return_df(collection, pipeline)"
   ]
  },
  {
   "cell_type": "markdown",
   "metadata": {},
   "source": [
    "#### **2.** Basado en la consulta del punto 1, mostrar sólo la región que tenga el menor ingreso."
   ]
  },
  {
   "cell_type": "code",
   "execution_count": 11,
   "metadata": {},
   "outputs": [
    {
     "data": {
      "text/html": [
       "<div>\n",
       "<style scoped>\n",
       "    .dataframe tbody tr th:only-of-type {\n",
       "        vertical-align: middle;\n",
       "    }\n",
       "\n",
       "    .dataframe tbody tr th {\n",
       "        vertical-align: top;\n",
       "    }\n",
       "\n",
       "    .dataframe thead th {\n",
       "        text-align: right;\n",
       "    }\n",
       "</style>\n",
       "<table border=\"1\" class=\"dataframe\">\n",
       "  <thead>\n",
       "    <tr style=\"text-align: right;\">\n",
       "      <th></th>\n",
       "      <th>_id</th>\n",
       "      <th>totalProductosVendidos</th>\n",
       "    </tr>\n",
       "  </thead>\n",
       "  <tbody>\n",
       "    <tr>\n",
       "      <th>0</th>\n",
       "      <td>NOA</td>\n",
       "      <td>14</td>\n",
       "    </tr>\n",
       "  </tbody>\n",
       "</table>\n",
       "</div>"
      ],
      "text/plain": [
       "   _id  totalProductosVendidos\n",
       "0  NOA                      14"
      ]
     },
     "execution_count": 11,
     "metadata": {},
     "output_type": "execute_result"
    }
   ],
   "source": [
    "pipeline = [\n",
    "    { \"$unwind\": \"$item\" },\n",
    "    {\n",
    "        \"$group\": {\n",
    "            \"_id\": \"$cliente.region\",\n",
    "            \"totalProductosVendidos\": { \"$sum\": \"$item.cantidad\" }\n",
    "        }\n",
    "    },\n",
    "    { \"$sort\": { \"totalProductosVendidos\": 1 } },\n",
    "    { \"$limit\": 1 }\n",
    "]\n",
    "\n",
    "run_pipeline_and_return_df(collection, pipeline)"
   ]
  },
  {
   "cell_type": "markdown",
   "metadata": {},
   "source": [
    "#### **3.** Basado en la consulta del punto 1, mostrar sólo las regiones que tengan una cantidad de productos vendidos superior a 10000."
   ]
  },
  {
   "cell_type": "code",
   "execution_count": 21,
   "metadata": {},
   "outputs": [
    {
     "name": "stdout",
     "output_type": "stream",
     "text": [
      "No hay resultados\n"
     ]
    }
   ],
   "source": [
    "pipeline = [\n",
    "    { \"$unwind\": \"$item\" },\n",
    "    {\n",
    "        \"$group\": {\n",
    "            \"_id\": \"$cliente.region\",\n",
    "            \"totalProductosVendidos\": { \"$sum\": \"$item.cantidad\" }\n",
    "        }\n",
    "    },\n",
    "    { \"$match\": { \"totalProductosVendidos\": { \"$gt\": 10000 } } }\n",
    "]\n",
    "\n",
    "run_pipeline_and_return_df(collection, pipeline) "
   ]
  },
  {
   "cell_type": "markdown",
   "metadata": {},
   "source": [
    "#### **4.** Se requiere obtener un reporte que contenga la siguiente información, nro. cuit, apellido y nombre y región y cantidad de facturas, ordenado por apellido."
   ]
  },
  {
   "cell_type": "code",
   "execution_count": 43,
   "metadata": {},
   "outputs": [
    {
     "data": {
      "text/html": [
       "<div>\n",
       "<style scoped>\n",
       "    .dataframe tbody tr th:only-of-type {\n",
       "        vertical-align: middle;\n",
       "    }\n",
       "\n",
       "    .dataframe tbody tr th {\n",
       "        vertical-align: top;\n",
       "    }\n",
       "\n",
       "    .dataframe thead th {\n",
       "        text-align: right;\n",
       "    }\n",
       "</style>\n",
       "<table border=\"1\" class=\"dataframe\">\n",
       "  <thead>\n",
       "    <tr style=\"text-align: right;\">\n",
       "      <th></th>\n",
       "      <th>apellido</th>\n",
       "      <th>nombre</th>\n",
       "      <th>region</th>\n",
       "      <th>cantidad_facturas</th>\n",
       "      <th>cuit</th>\n",
       "    </tr>\n",
       "  </thead>\n",
       "  <tbody>\n",
       "    <tr>\n",
       "      <th>0</th>\n",
       "      <td>Lavagno</td>\n",
       "      <td>Soledad</td>\n",
       "      <td>NOA</td>\n",
       "      <td>14</td>\n",
       "      <td>2729887543</td>\n",
       "    </tr>\n",
       "    <tr>\n",
       "      <th>1</th>\n",
       "      <td>Malinez</td>\n",
       "      <td>Marina</td>\n",
       "      <td>CENTRO</td>\n",
       "      <td>15</td>\n",
       "      <td>2740488484</td>\n",
       "    </tr>\n",
       "    <tr>\n",
       "      <th>2</th>\n",
       "      <td>Manoni</td>\n",
       "      <td>Juan Manuel</td>\n",
       "      <td>NEA</td>\n",
       "      <td>42</td>\n",
       "      <td>2029889382</td>\n",
       "    </tr>\n",
       "    <tr>\n",
       "      <th>3</th>\n",
       "      <td>Zavasi</td>\n",
       "      <td>Martin</td>\n",
       "      <td>CABA</td>\n",
       "      <td>29</td>\n",
       "      <td>2038373771</td>\n",
       "    </tr>\n",
       "  </tbody>\n",
       "</table>\n",
       "</div>"
      ],
      "text/plain": [
       "  apellido       nombre  region  cantidad_facturas        cuit\n",
       "0  Lavagno      Soledad     NOA                 14  2729887543\n",
       "1  Malinez       Marina  CENTRO                 15  2740488484\n",
       "2   Manoni  Juan Manuel     NEA                 42  2029889382\n",
       "3   Zavasi       Martin    CABA                 29  2038373771"
      ]
     },
     "execution_count": 43,
     "metadata": {},
     "output_type": "execute_result"
    }
   ],
   "source": [
    "pipeline = [\n",
    "    {\n",
    "        \"$group\": {\n",
    "            \"_id\": \"$cliente.cuit\",\n",
    "            \"apellido\": { \"$first\": \"$cliente.apellido\" },\n",
    "            \"nombre\": { \"$first\": \"$cliente.nombre\" },\n",
    "            \"region\": { \"$first\": \"$cliente.region\" },\n",
    "            \"cantidad_facturas\": { \"$sum\": 1 }\n",
    "        }\n",
    "    },\n",
    "    {\n",
    "        \"$project\": {\n",
    "            \"_id\": 0,\n",
    "            \"cuit\": \"$_id\",\n",
    "            \"apellido\": 1,\n",
    "            \"nombre\": 1,\n",
    "            \"region\": 1,\n",
    "            \"cantidad_facturas\": 1\n",
    "        }\n",
    "    },\n",
    "    { \"$sort\": { \"apellido\": 1 } }\n",
    "]\n",
    "\n",
    "run_pipeline_and_return_df(collection, pipeline)"
   ]
  },
  {
   "cell_type": "markdown",
   "metadata": {},
   "source": [
    "#### **5.** Basados en la consulta del punto 4 informar sólo los clientes con número de CUIT mayor a 27000000000."
   ]
  },
  {
   "cell_type": "code",
   "execution_count": 36,
   "metadata": {},
   "outputs": [
    {
     "data": {
      "text/html": [
       "<div>\n",
       "<style scoped>\n",
       "    .dataframe tbody tr th:only-of-type {\n",
       "        vertical-align: middle;\n",
       "    }\n",
       "\n",
       "    .dataframe tbody tr th {\n",
       "        vertical-align: top;\n",
       "    }\n",
       "\n",
       "    .dataframe thead th {\n",
       "        text-align: right;\n",
       "    }\n",
       "</style>\n",
       "<table border=\"1\" class=\"dataframe\">\n",
       "  <thead>\n",
       "    <tr style=\"text-align: right;\">\n",
       "      <th></th>\n",
       "      <th>apellido</th>\n",
       "      <th>nombre</th>\n",
       "      <th>region</th>\n",
       "      <th>cantidad_facturas</th>\n",
       "      <th>cuit</th>\n",
       "    </tr>\n",
       "  </thead>\n",
       "  <tbody>\n",
       "    <tr>\n",
       "      <th>0</th>\n",
       "      <td>Lavagno</td>\n",
       "      <td>Soledad</td>\n",
       "      <td>NOA</td>\n",
       "      <td>14</td>\n",
       "      <td>2729887543</td>\n",
       "    </tr>\n",
       "    <tr>\n",
       "      <th>1</th>\n",
       "      <td>Malinez</td>\n",
       "      <td>Marina</td>\n",
       "      <td>CENTRO</td>\n",
       "      <td>15</td>\n",
       "      <td>2740488484</td>\n",
       "    </tr>\n",
       "  </tbody>\n",
       "</table>\n",
       "</div>"
      ],
      "text/plain": [
       "  apellido   nombre  region  cantidad_facturas        cuit\n",
       "0  Lavagno  Soledad     NOA                 14  2729887543\n",
       "1  Malinez   Marina  CENTRO                 15  2740488484"
      ]
     },
     "execution_count": 36,
     "metadata": {},
     "output_type": "execute_result"
    }
   ],
   "source": [
    "pipeline = [\n",
    "    {\n",
    "        \"$addFields\": {\n",
    "            \"cuitAsNumber\": { \"$toLong\": \"$cliente.cuit\" }\n",
    "        }\n",
    "    },\n",
    "    {\n",
    "        \"$match\": {\n",
    "            \"cuitAsNumber\": { \"$gt\": 2700000000 } #original: 2700000000\n",
    "        }\n",
    "    },\n",
    "    {\n",
    "        \"$group\": {\n",
    "            \"_id\": \"$cliente.cuit\",\n",
    "            \"apellido\": { \"$first\": \"$cliente.apellido\" },\n",
    "            \"nombre\": { \"$first\": \"$cliente.nombre\" },\n",
    "            \"region\": { \"$first\": \"$cliente.region\" },\n",
    "            \"cantidad_facturas\": { \"$sum\": 1 }\n",
    "        }\n",
    "    },\n",
    "    {\n",
    "        \"$project\": {\n",
    "            \"_id\": 0,\n",
    "            \"cuit\": \"$_id\",\n",
    "            \"apellido\": 1,\n",
    "            \"nombre\": 1,\n",
    "            \"region\": 1,\n",
    "            \"cantidad_facturas\": 1\n",
    "        }\n",
    "    },\n",
    "    { \"$sort\": { \"apellido\": 1 } }\n",
    "]\n",
    "\n",
    "run_pipeline_and_return_df(collection, pipeline)"
   ]
  },
  {
   "cell_type": "markdown",
   "metadata": {},
   "source": [
    "**Observacion:** He reemplazado el valor original 2700000000 por 270000000 ya que no traia resultados."
   ]
  },
  {
   "cell_type": "markdown",
   "metadata": {},
   "source": [
    "#### **6.** Basados en la consulta del punto 5 informar solamente la cantidad de clientes que cumplen con esta condición."
   ]
  },
  {
   "cell_type": "code",
   "execution_count": 44,
   "metadata": {},
   "outputs": [
    {
     "data": {
      "text/html": [
       "<div>\n",
       "<style scoped>\n",
       "    .dataframe tbody tr th:only-of-type {\n",
       "        vertical-align: middle;\n",
       "    }\n",
       "\n",
       "    .dataframe tbody tr th {\n",
       "        vertical-align: top;\n",
       "    }\n",
       "\n",
       "    .dataframe thead th {\n",
       "        text-align: right;\n",
       "    }\n",
       "</style>\n",
       "<table border=\"1\" class=\"dataframe\">\n",
       "  <thead>\n",
       "    <tr style=\"text-align: right;\">\n",
       "      <th></th>\n",
       "      <th>total_clients</th>\n",
       "    </tr>\n",
       "  </thead>\n",
       "  <tbody>\n",
       "    <tr>\n",
       "      <th>0</th>\n",
       "      <td>2</td>\n",
       "    </tr>\n",
       "  </tbody>\n",
       "</table>\n",
       "</div>"
      ],
      "text/plain": [
       "   total_clients\n",
       "0              2"
      ]
     },
     "execution_count": 44,
     "metadata": {},
     "output_type": "execute_result"
    }
   ],
   "source": [
    "pipeline = [\n",
    "    {\n",
    "        \"$addFields\": {\n",
    "            \"cuitAsNumber\": { \"$toLong\": \"$cliente.cuit\" }\n",
    "        }\n",
    "    },\n",
    "    {\n",
    "        \"$match\": {\n",
    "            \"cuitAsNumber\": { \"$gt\": 2700000000 }\n",
    "        }\n",
    "    },\n",
    "    {\n",
    "        \"$group\": {\n",
    "            \"_id\": \"$cliente.cuit\",\n",
    "        }\n",
    "    },\n",
    "    {\n",
    "        \"$count\": \"total_clients\"\n",
    "    }\n",
    "]\n",
    "\n",
    "run_pipeline_and_return_df(collection, pipeline)"
   ]
  },
  {
   "cell_type": "markdown",
   "metadata": {},
   "source": [
    "#### **7.** Se requiere realizar una consulta que devuelva la siguiente información: producto y cantidad de facturas en las que lo compraron, ordenado por cantidad de facturas descendente."
   ]
  },
  {
   "cell_type": "code",
   "execution_count": 47,
   "metadata": {},
   "outputs": [
    {
     "data": {
      "text/html": [
       "<div>\n",
       "<style scoped>\n",
       "    .dataframe tbody tr th:only-of-type {\n",
       "        vertical-align: middle;\n",
       "    }\n",
       "\n",
       "    .dataframe tbody tr th {\n",
       "        vertical-align: top;\n",
       "    }\n",
       "\n",
       "    .dataframe thead th {\n",
       "        text-align: right;\n",
       "    }\n",
       "</style>\n",
       "<table border=\"1\" class=\"dataframe\">\n",
       "  <thead>\n",
       "    <tr style=\"text-align: right;\">\n",
       "      <th></th>\n",
       "      <th>_id</th>\n",
       "      <th>count</th>\n",
       "    </tr>\n",
       "  </thead>\n",
       "  <tbody>\n",
       "    <tr>\n",
       "      <th>0</th>\n",
       "      <td>TALADRO 12mm</td>\n",
       "      <td>43</td>\n",
       "    </tr>\n",
       "    <tr>\n",
       "      <th>1</th>\n",
       "      <td>CORREA 10mm</td>\n",
       "      <td>29</td>\n",
       "    </tr>\n",
       "    <tr>\n",
       "      <th>2</th>\n",
       "      <td>TUERCA 5mm</td>\n",
       "      <td>28</td>\n",
       "    </tr>\n",
       "    <tr>\n",
       "      <th>3</th>\n",
       "      <td>TUERCA 2mm</td>\n",
       "      <td>28</td>\n",
       "    </tr>\n",
       "    <tr>\n",
       "      <th>4</th>\n",
       "      <td>SET HERRAMIENTAS</td>\n",
       "      <td>28</td>\n",
       "    </tr>\n",
       "    <tr>\n",
       "      <th>5</th>\n",
       "      <td>CORREA 12mm</td>\n",
       "      <td>15</td>\n",
       "    </tr>\n",
       "  </tbody>\n",
       "</table>\n",
       "</div>"
      ],
      "text/plain": [
       "                _id  count\n",
       "0      TALADRO 12mm     43\n",
       "1       CORREA 10mm     29\n",
       "2        TUERCA 5mm     28\n",
       "3        TUERCA 2mm     28\n",
       "4  SET HERRAMIENTAS     28\n",
       "5       CORREA 12mm     15"
      ]
     },
     "execution_count": 47,
     "metadata": {},
     "output_type": "execute_result"
    }
   ],
   "source": [
    "pipeline = [\n",
    "    { \"$unwind\": \"$item\" },\n",
    "    {\n",
    "        \"$group\": {\n",
    "            \"_id\": \"$item.producto\",\n",
    "            \"count\": { \"$sum\": 1 }\n",
    "        }\n",
    "    },\n",
    "    { \"$sort\": { \"count\": -1 } }\n",
    "]\n",
    "\n",
    "run_pipeline_and_return_df(collection, pipeline)"
   ]
  },
  {
   "cell_type": "markdown",
   "metadata": {},
   "source": [
    "#### **8.** Obtener la cantidad total comprada así como también los ingresos totales para cada producto."
   ]
  },
  {
   "cell_type": "code",
   "execution_count": 49,
   "metadata": {},
   "outputs": [
    {
     "data": {
      "text/html": [
       "<div>\n",
       "<style scoped>\n",
       "    .dataframe tbody tr th:only-of-type {\n",
       "        vertical-align: middle;\n",
       "    }\n",
       "\n",
       "    .dataframe tbody tr th {\n",
       "        vertical-align: top;\n",
       "    }\n",
       "\n",
       "    .dataframe thead th {\n",
       "        text-align: right;\n",
       "    }\n",
       "</style>\n",
       "<table border=\"1\" class=\"dataframe\">\n",
       "  <thead>\n",
       "    <tr style=\"text-align: right;\">\n",
       "      <th></th>\n",
       "      <th>_id</th>\n",
       "      <th>cantidad_total</th>\n",
       "      <th>ingresos_totales</th>\n",
       "    </tr>\n",
       "  </thead>\n",
       "  <tbody>\n",
       "    <tr>\n",
       "      <th>0</th>\n",
       "      <td>TUERCA 5mm</td>\n",
       "      <td>350</td>\n",
       "      <td>31500</td>\n",
       "    </tr>\n",
       "    <tr>\n",
       "      <th>1</th>\n",
       "      <td>CORREA 10mm</td>\n",
       "      <td>198</td>\n",
       "      <td>26532</td>\n",
       "    </tr>\n",
       "    <tr>\n",
       "      <th>2</th>\n",
       "      <td>CORREA 12mm</td>\n",
       "      <td>165</td>\n",
       "      <td>2970</td>\n",
       "    </tr>\n",
       "    <tr>\n",
       "      <th>3</th>\n",
       "      <td>TUERCA 2mm</td>\n",
       "      <td>112</td>\n",
       "      <td>6720</td>\n",
       "    </tr>\n",
       "    <tr>\n",
       "      <th>4</th>\n",
       "      <td>TALADRO 12mm</td>\n",
       "      <td>43</td>\n",
       "      <td>21070</td>\n",
       "    </tr>\n",
       "    <tr>\n",
       "      <th>5</th>\n",
       "      <td>SET HERRAMIENTAS</td>\n",
       "      <td>28</td>\n",
       "      <td>19600</td>\n",
       "    </tr>\n",
       "  </tbody>\n",
       "</table>\n",
       "</div>"
      ],
      "text/plain": [
       "                _id  cantidad_total  ingresos_totales\n",
       "0        TUERCA 5mm             350             31500\n",
       "1       CORREA 10mm             198             26532\n",
       "2       CORREA 12mm             165              2970\n",
       "3        TUERCA 2mm             112              6720\n",
       "4      TALADRO 12mm              43             21070\n",
       "5  SET HERRAMIENTAS              28             19600"
      ]
     },
     "execution_count": 49,
     "metadata": {},
     "output_type": "execute_result"
    }
   ],
   "source": [
    "pipeline = [\n",
    "    { \"$unwind\": \"$item\" },\n",
    "    {\n",
    "        \"$group\": {\n",
    "            \"_id\": \"$item.producto\",\n",
    "            \"cantidad_total\": { \"$sum\": \"$item.cantidad\" },\n",
    "            \"ingresos_totales\": { \"$sum\": { \"$multiply\": [ \"$item.cantidad\", \"$item.precio\" ] } }\n",
    "        }\n",
    "    },\n",
    "    { \"$sort\": { \"cantidad_total\": -1, \"ingresos_totales\": -1 } }\n",
    "]\n",
    "\n",
    "run_pipeline_and_return_df(collection, pipeline)"
   ]
  },
  {
   "cell_type": "markdown",
   "metadata": {},
   "source": [
    "#### **9.** Idem el punto anterior, ordenar por ingresos en forma ascendente, saltear el 1ro y mostrar 2do y 3ro."
   ]
  },
  {
   "cell_type": "code",
   "execution_count": 51,
   "metadata": {},
   "outputs": [
    {
     "data": {
      "text/html": [
       "<div>\n",
       "<style scoped>\n",
       "    .dataframe tbody tr th:only-of-type {\n",
       "        vertical-align: middle;\n",
       "    }\n",
       "\n",
       "    .dataframe tbody tr th {\n",
       "        vertical-align: top;\n",
       "    }\n",
       "\n",
       "    .dataframe thead th {\n",
       "        text-align: right;\n",
       "    }\n",
       "</style>\n",
       "<table border=\"1\" class=\"dataframe\">\n",
       "  <thead>\n",
       "    <tr style=\"text-align: right;\">\n",
       "      <th></th>\n",
       "      <th>_id</th>\n",
       "      <th>cantidad_total</th>\n",
       "      <th>ingresos_totales</th>\n",
       "    </tr>\n",
       "  </thead>\n",
       "  <tbody>\n",
       "    <tr>\n",
       "      <th>0</th>\n",
       "      <td>CORREA 10mm</td>\n",
       "      <td>198</td>\n",
       "      <td>26532</td>\n",
       "    </tr>\n",
       "    <tr>\n",
       "      <th>1</th>\n",
       "      <td>CORREA 12mm</td>\n",
       "      <td>165</td>\n",
       "      <td>2970</td>\n",
       "    </tr>\n",
       "  </tbody>\n",
       "</table>\n",
       "</div>"
      ],
      "text/plain": [
       "            _id  cantidad_total  ingresos_totales\n",
       "0   CORREA 10mm             198             26532\n",
       "1   CORREA 12mm             165              2970"
      ]
     },
     "execution_count": 51,
     "metadata": {},
     "output_type": "execute_result"
    }
   ],
   "source": [
    "pipeline = [\n",
    "    { \"$unwind\": \"$item\" },\n",
    "    {\n",
    "        \"$group\": {\n",
    "            \"_id\": \"$item.producto\",\n",
    "            \"cantidad_total\": { \"$sum\": \"$item.cantidad\" },\n",
    "            \"ingresos_totales\": { \"$sum\": { \"$multiply\": [ \"$item.cantidad\", \"$item.precio\" ] } }\n",
    "        }\n",
    "    },\n",
    "    { \"$sort\": { \"cantidad_total\": -1, \"ingresos_totales\": -1 } },\n",
    "    { \"$skip\": 1 },\n",
    "    { \"$limit\": 2 }\n",
    "]\n",
    "\n",
    "run_pipeline_and_return_df(collection, pipeline)"
   ]
  },
  {
   "cell_type": "markdown",
   "metadata": {},
   "source": [
    "#### **10.** Obtener todos productos junto con un array de las personas que lo compraron. En este array deberá haber solo strings con el nombre completo de la persona. Los documentos entregados como resultado deberán tener la siguiente forma: {producto: “<nombre>”, personas:[“...”, ...]}"
   ]
  },
  {
   "cell_type": "code",
   "execution_count": 52,
   "metadata": {},
   "outputs": [
    {
     "data": {
      "text/html": [
       "<div>\n",
       "<style scoped>\n",
       "    .dataframe tbody tr th:only-of-type {\n",
       "        vertical-align: middle;\n",
       "    }\n",
       "\n",
       "    .dataframe tbody tr th {\n",
       "        vertical-align: top;\n",
       "    }\n",
       "\n",
       "    .dataframe thead th {\n",
       "        text-align: right;\n",
       "    }\n",
       "</style>\n",
       "<table border=\"1\" class=\"dataframe\">\n",
       "  <thead>\n",
       "    <tr style=\"text-align: right;\">\n",
       "      <th></th>\n",
       "      <th>personas</th>\n",
       "      <th>producto</th>\n",
       "    </tr>\n",
       "  </thead>\n",
       "  <tbody>\n",
       "    <tr>\n",
       "      <th>0</th>\n",
       "      <td>[Marina Malinez, Juan Manuel Manoni]</td>\n",
       "      <td>TALADRO 12mm</td>\n",
       "    </tr>\n",
       "    <tr>\n",
       "      <th>1</th>\n",
       "      <td>[Juan Manuel Manoni, Martin Zavasi]</td>\n",
       "      <td>TUERCA 2mm</td>\n",
       "    </tr>\n",
       "    <tr>\n",
       "      <th>2</th>\n",
       "      <td>[Soledad Lavagno, Juan Manuel Manoni]</td>\n",
       "      <td>SET HERRAMIENTAS</td>\n",
       "    </tr>\n",
       "    <tr>\n",
       "      <th>3</th>\n",
       "      <td>[Juan Manuel Manoni]</td>\n",
       "      <td>TUERCA 5mm</td>\n",
       "    </tr>\n",
       "    <tr>\n",
       "      <th>4</th>\n",
       "      <td>[Marina Malinez]</td>\n",
       "      <td>CORREA 12mm</td>\n",
       "    </tr>\n",
       "    <tr>\n",
       "      <th>5</th>\n",
       "      <td>[Martin Zavasi]</td>\n",
       "      <td>CORREA 10mm</td>\n",
       "    </tr>\n",
       "  </tbody>\n",
       "</table>\n",
       "</div>"
      ],
      "text/plain": [
       "                                personas          producto\n",
       "0   [Marina Malinez, Juan Manuel Manoni]      TALADRO 12mm\n",
       "1    [Juan Manuel Manoni, Martin Zavasi]        TUERCA 2mm\n",
       "2  [Soledad Lavagno, Juan Manuel Manoni]  SET HERRAMIENTAS\n",
       "3                   [Juan Manuel Manoni]        TUERCA 5mm\n",
       "4                       [Marina Malinez]       CORREA 12mm\n",
       "5                        [Martin Zavasi]       CORREA 10mm"
      ]
     },
     "execution_count": 52,
     "metadata": {},
     "output_type": "execute_result"
    }
   ],
   "source": [
    "pipeline = [\n",
    "    { \"$unwind\": \"$item\" },\n",
    "    {\n",
    "        \"$group\": {\n",
    "            \"_id\": \"$item.producto\",\n",
    "            \"personas\": { \"$addToSet\": { \"$concat\": [ \"$cliente.nombre\", \" \", \"$cliente.apellido\" ] } }\n",
    "        }\n",
    "    },\n",
    "    {\n",
    "        \"$project\": {\n",
    "            \"_id\": 0,\n",
    "            \"producto\": \"$_id\",\n",
    "            \"personas\": 1\n",
    "        }\n",
    "    }\n",
    "]\n",
    "\n",
    "run_pipeline_and_return_df(collection, pipeline)"
   ]
  }
 ],
 "metadata": {
  "kernelspec": {
   "display_name": "venv",
   "language": "python",
   "name": "python3"
  },
  "language_info": {
   "codemirror_mode": {
    "name": "ipython",
    "version": 3
   },
   "file_extension": ".py",
   "mimetype": "text/x-python",
   "name": "python",
   "nbconvert_exporter": "python",
   "pygments_lexer": "ipython3",
   "version": "3.12.3"
  }
 },
 "nbformat": 4,
 "nbformat_minor": 2
}
