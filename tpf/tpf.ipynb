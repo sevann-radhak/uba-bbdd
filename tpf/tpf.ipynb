{
 "cells": [
  {
   "cell_type": "code",
   "execution_count": null,
   "metadata": {},
   "outputs": [],
   "source": [
    "# !pip install psycopg2-binary"
   ]
  },
  {
   "cell_type": "code",
   "execution_count": 31,
   "metadata": {},
   "outputs": [],
   "source": [
    "import psycopg2\n",
    "from psycopg2 import sql\n",
    "from psycopg2.extensions import ISOLATION_LEVEL_AUTOCOMMIT\n",
    "import os"
   ]
  },
  {
   "cell_type": "code",
   "execution_count": 2,
   "metadata": {},
   "outputs": [],
   "source": [
    "DB_PARAMS = {\n",
    "    \"user\": \"postgres\",\n",
    "    \"password\": \"123456\",\n",
    "    \"host\": \"127.0.0.1\",\n",
    "    \"port\": \"5432\",\n",
    "    \"database\": \"postgres\"  \n",
    "}\n",
    "\n",
    "DB_NAME = \"lego_database\""
   ]
  },
  {
   "cell_type": "code",
   "execution_count": 9,
   "metadata": {},
   "outputs": [],
   "source": [
    "def database_exists(conn, db_name):\n",
    "    \"\"\"\n",
    "    Verifica si una base de datos ya existe.\n",
    "    \"\"\"\n",
    "    with conn.cursor() as cur:\n",
    "        cur.execute(\"SELECT 1 FROM pg_database WHERE datname=%s\", (db_name,))\n",
    "        return cur.fetchone() is not None"
   ]
  },
  {
   "cell_type": "code",
   "execution_count": 3,
   "metadata": {},
   "outputs": [],
   "source": [
    "def execute_sql_from_file(conn, file_path, **kwargs):\n",
    "    \"\"\"\n",
    "    Executes SQL commands from a given file.\n",
    "    \"\"\"\n",
    "    with open(file_path, 'r') as file:\n",
    "        sql = file.read().format(**kwargs)\n",
    "    with conn.cursor() as cur:\n",
    "        cur.execute(sql)"
   ]
  },
  {
   "cell_type": "code",
   "execution_count": 33,
   "metadata": {},
   "outputs": [],
   "source": [
    "def create_database(connection_params, db_name):\n",
    "    try:\n",
    "        # Conectar a la base de datos predeterminada para realizar la verificación y creación\n",
    "        conn = psycopg2.connect(**connection_params)\n",
    "        conn.set_isolation_level(ISOLATION_LEVEL_AUTOCOMMIT)\n",
    "        with conn.cursor() as cur:\n",
    "            # Verificar si la base de datos ya existe\n",
    "            cur.execute(\"SELECT 1 FROM pg_database WHERE datname = %s\", (db_name,))\n",
    "            exists = cur.fetchone()\n",
    "            if exists:\n",
    "                print(f\"Database '{db_name}' already exists.\")\n",
    "            else:\n",
    "                # Ejecutar el comando CREATE DATABASE si no existe\n",
    "                cur.execute(f\"CREATE DATABASE {db_name}\")\n",
    "                DB_PARAMS[\"database\"] = db_name\n",
    "                print(f\"Database '{db_name}' created successfully.\")\n",
    "        conn.close()\n",
    "\n",
    "    except Exception as e:\n",
    "        print(f\"Error creating database: {e}\")"
   ]
  },
  {
   "cell_type": "code",
   "execution_count": 42,
   "metadata": {},
   "outputs": [],
   "source": [
    "def create_tables(db_params):\n",
    "    \"\"\"\n",
    "    Creates tables in the database.\n",
    "    \"\"\"\n",
    "    \n",
    "    sql_files = [\n",
    "    'create_colors_table.sql',\n",
    "    'create_part_categories_table.sql',\n",
    "    'create_parts_table.sql',\n",
    "    'create_themes_table.sql',\n",
    "    'create_sets_table.sql',\n",
    "    'create_inventories_table.sql',\n",
    "    'create_inventory_parts_table.sql',\n",
    "    'create_inventory_sets_table.sql'\n",
    "]\n",
    "\n",
    "    try:\n",
    "        with psycopg2.connect(**db_params) as conn:\n",
    "            conn.set_session(autocommit=True)\n",
    "            \n",
    "            for sql_file in sql_files:\n",
    "                execute_sql_from_file(conn, f'sql/{sql_file}')\n",
    "                print(f\"Table from '{sql_file}' created.\")\n",
    "    except Exception as e:\n",
    "        print(f\"Error creating tables: {e}\")"
   ]
  },
  {
   "cell_type": "code",
   "execution_count": 43,
   "metadata": {},
   "outputs": [
    {
     "name": "stdout",
     "output_type": "stream",
     "text": [
      "Database 'lego_database' already exists.\n"
     ]
    }
   ],
   "source": [
    "create_database(DB_PARAMS, DB_NAME)"
   ]
  },
  {
   "cell_type": "code",
   "execution_count": 44,
   "metadata": {},
   "outputs": [
    {
     "name": "stdout",
     "output_type": "stream",
     "text": [
      "Table from 'create_colors_table.sql' created.\n",
      "Table from 'create_part_categories_table.sql' created.\n",
      "Table from 'create_parts_table.sql' created.\n",
      "Table from 'create_themes_table.sql' created.\n",
      "Table from 'create_sets_table.sql' created.\n",
      "Table from 'create_inventories_table.sql' created.\n",
      "Table from 'create_inventory_parts_table.sql' created.\n",
      "Table from 'create_inventory_sets_table.sql' created.\n"
     ]
    }
   ],
   "source": [
    "create_tables(DB_PARAMS)"
   ]
  },
  {
   "cell_type": "code",
   "execution_count": 47,
   "metadata": {},
   "outputs": [],
   "source": [
    "import csv\n",
    "import sqlite3\n",
    "\n",
    "# Conexión a la base de datos (ajustar según sea necesario)\n",
    "conn = sqlite3.connect('lego_database.db')\n",
    "cursor = conn.cursor()\n",
    "\n",
    "# Función modificada para insertar datos desde un archivo CSV a una tabla\n",
    "def insert_data_from_csv(file_path, table_name):\n",
    "    with open(file_path, newline='', encoding='utf-8') as csvfile:\n",
    "        reader = csv.reader(csvfile)\n",
    "        columns = next(reader)  # Obtiene el encabezado para las columnas\n",
    "        placeholders = ', '.join(['?'] * len(columns))  # Crea marcadores de posición\n",
    "        columns_formatted = ', '.join(columns)  # Formatea las columnas para la consulta SQL\n",
    "        sql = f'INSERT INTO {table_name} ({columns_formatted}) VALUES ({placeholders})'\n",
    "        for row in reader:\n",
    "            print(row)\n",
    "            print(sql)\n",
    "            cursor.execute(sql, row)\n",
    "    conn.commit()"
   ]
  },
  {
   "cell_type": "code",
   "execution_count": 48,
   "metadata": {},
   "outputs": [
    {
     "name": "stdout",
     "output_type": "stream",
     "text": [
      "['-1', 'Unknown', '0033B2', 'f']\n",
      "INSERT INTO colors (id, name, rgb, is_trans) VALUES (?, ?, ?, ?)\n"
     ]
    },
    {
     "ename": "OperationalError",
     "evalue": "no such table: colors",
     "output_type": "error",
     "traceback": [
      "\u001b[1;31m---------------------------------------------------------------------------\u001b[0m",
      "\u001b[1;31mOperationalError\u001b[0m                          Traceback (most recent call last)",
      "Cell \u001b[1;32mIn[48], line 2\u001b[0m\n\u001b[0;32m      1\u001b[0m \u001b[38;5;66;03m# Ejemplo de uso para la tabla 'colors'\u001b[39;00m\n\u001b[1;32m----> 2\u001b[0m \u001b[43minsert_data_from_csv\u001b[49m\u001b[43m(\u001b[49m\u001b[38;5;124;43m'\u001b[39;49m\u001b[38;5;124;43m./raw/colors.csv\u001b[39;49m\u001b[38;5;124;43m'\u001b[39;49m\u001b[43m,\u001b[49m\u001b[43m \u001b[49m\u001b[38;5;124;43m'\u001b[39;49m\u001b[38;5;124;43mcolors\u001b[39;49m\u001b[38;5;124;43m'\u001b[39;49m\u001b[43m)\u001b[49m\n",
      "Cell \u001b[1;32mIn[47], line 19\u001b[0m, in \u001b[0;36minsert_data_from_csv\u001b[1;34m(file_path, table_name)\u001b[0m\n\u001b[0;32m     17\u001b[0m         \u001b[38;5;28mprint\u001b[39m(row)\n\u001b[0;32m     18\u001b[0m         \u001b[38;5;28mprint\u001b[39m(sql)\n\u001b[1;32m---> 19\u001b[0m         \u001b[43mcursor\u001b[49m\u001b[38;5;241;43m.\u001b[39;49m\u001b[43mexecute\u001b[49m\u001b[43m(\u001b[49m\u001b[43msql\u001b[49m\u001b[43m,\u001b[49m\u001b[43m \u001b[49m\u001b[43mrow\u001b[49m\u001b[43m)\u001b[49m\n\u001b[0;32m     20\u001b[0m conn\u001b[38;5;241m.\u001b[39mcommit()\n",
      "\u001b[1;31mOperationalError\u001b[0m: no such table: colors"
     ]
    }
   ],
   "source": [
    "# Ejemplo de uso para la tabla 'colors'\n",
    "insert_data_from_csv('./raw/colors.csv', 'colors')"
   ]
  },
  {
   "cell_type": "code",
   "execution_count": null,
   "metadata": {},
   "outputs": [],
   "source": [
    "\n",
    "# No olvides cerrar la conexión al final\n",
    "conn.close()"
   ]
  },
  {
   "cell_type": "code",
   "execution_count": 52,
   "metadata": {},
   "outputs": [],
   "source": [
    "import csv\n",
    "from psycopg2 import sql, connect, extensions\n",
    "\n",
    "def insert_data_from_csv_to_db(db_params, file_path, table_name):\n",
    "    with open(file_path, newline='', encoding='utf-8') as csvfile:\n",
    "        reader = csv.reader(csvfile)\n",
    "        columns = next(reader)  # Obtiene el encabezado para las columnas\n",
    "        records = [row for row in reader]  # Lee todos los registros en una lista\n",
    "\n",
    "        # Inicia una conexión a la base de datos\n",
    "        conn = connect(**db_params)\n",
    "        conn.set_isolation_level(extensions.ISOLATION_LEVEL_AUTOCOMMIT)\n",
    "        cursor = conn.cursor()\n",
    "\n",
    "        # Prepara la consulta SQL para insertar todos los registros\n",
    "        placeholders = ', '.join(['%s'] * len(columns))  # Marcadores de posición para una fila\n",
    "        all_placeholders = ', '.join([f\"({placeholders})\"] * len(records))  # Repite los marcadores para todas las filas\n",
    "        query = sql.SQL(\"INSERT INTO {table} ({fields}) VALUES {values}\").format(\n",
    "            table=sql.Identifier(table_name),\n",
    "            fields=sql.SQL(', ').join(map(sql.Identifier, columns)),\n",
    "            values=sql.SQL(all_placeholders)\n",
    "        )\n",
    "\n",
    "        # Aplana la lista de registros para pasarla como argumentos a la consulta\n",
    "        flat_records = [item for sublist in records for item in sublist]\n",
    "\n",
    "        try:\n",
    "            cursor.execute(query, flat_records)\n",
    "            print(\"Todos los registros insertados exitosamente.\")\n",
    "        except (Exception, psycopg2.DatabaseError) as error:\n",
    "            print(f\"Error al ejecutar la consulta: {error}\")\n",
    "        finally:\n",
    "            cursor.close()\n",
    "            conn.close()\n",
    "            print(\"Conexión cerrada.\")"
   ]
  },
  {
   "cell_type": "code",
   "execution_count": 57,
   "metadata": {},
   "outputs": [
    {
     "name": "stdout",
     "output_type": "stream",
     "text": [
      "Todos los registros insertados exitosamente.\n",
      "Conexión cerrada.\n"
     ]
    }
   ],
   "source": [
    "table = 'colors'\n",
    "insert_data_from_csv_to_db(DB_PARAMS, f'./raw/{table}.csv', table)"
   ]
  },
  {
   "cell_type": "markdown",
   "metadata": {},
   "source": [
    "# Consultas."
   ]
  },
  {
   "cell_type": "code",
   "execution_count": 36,
   "metadata": {},
   "outputs": [],
   "source": [
    "def execute_query(db_params, query):\n",
    "    try:\n",
    "        conn = psycopg2.connect(**db_params)\n",
    "        conn.set_isolation_level(ISOLATION_LEVEL_AUTOCOMMIT)\n",
    "        cursor = conn.cursor()\n",
    "        \n",
    "        cursor.execute(sql.SQL(query))\n",
    "        \n",
    "        if query.strip().lower().startswith(\"select\"):\n",
    "            records = cursor.fetchall()\n",
    "            return records\n",
    "        else:\n",
    "            print(\"Consulta ejecutada exitosamente.\")\n",
    "        \n",
    "    except (Exception, psycopg2.DatabaseError) as error:\n",
    "        print(f\"Error al ejecutar la consulta: {error}\")\n",
    "    finally:\n",
    "        if conn is not None:\n",
    "            cursor.close()\n",
    "            conn.close()\n",
    "            print(\"Conexión cerrada.\")"
   ]
  },
  {
   "cell_type": "code",
   "execution_count": 56,
   "metadata": {},
   "outputs": [
    {
     "name": "stdout",
     "output_type": "stream",
     "text": [
      "Conexión cerrada.\n"
     ]
    },
    {
     "data": {
      "text/plain": [
       "[]"
      ]
     },
     "execution_count": 56,
     "metadata": {},
     "output_type": "execute_result"
    }
   ],
   "source": [
    "query = \"select * from colors\"\n",
    "execute_query(DB_PARAMS, query)"
   ]
  },
  {
   "cell_type": "code",
   "execution_count": 50,
   "metadata": {},
   "outputs": [
    {
     "name": "stdout",
     "output_type": "stream",
     "text": [
      "Consulta ejecutada exitosamente.\n",
      "Conexión cerrada.\n"
     ]
    }
   ],
   "source": [
    "query = \"INSERT INTO colors (id, name, rgb, is_trans) VALUES ('-1', 'Unknown', '0033B2', 'f')\"\n",
    "\n",
    "execute_query(DB_PARAMS, query)"
   ]
  }
 ],
 "metadata": {
  "kernelspec": {
   "display_name": "venv",
   "language": "python",
   "name": "python3"
  },
  "language_info": {
   "codemirror_mode": {
    "name": "ipython",
    "version": 3
   },
   "file_extension": ".py",
   "mimetype": "text/x-python",
   "name": "python",
   "nbconvert_exporter": "python",
   "pygments_lexer": "ipython3",
   "version": "3.12.3"
  }
 },
 "nbformat": 4,
 "nbformat_minor": 2
}
