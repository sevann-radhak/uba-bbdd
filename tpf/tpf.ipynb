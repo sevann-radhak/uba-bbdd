{
 "cells": [
  {
   "cell_type": "code",
   "execution_count": null,
   "metadata": {},
   "outputs": [],
   "source": [
    "!pip install psycopg2-binary"
   ]
  },
  {
   "cell_type": "code",
   "execution_count": 2,
   "metadata": {},
   "outputs": [],
   "source": [
    "import psycopg2\n",
    "from psycopg2.extensions import ISOLATION_LEVEL_AUTOCOMMIT"
   ]
  },
  {
   "cell_type": "code",
   "execution_count": 5,
   "metadata": {},
   "outputs": [],
   "source": [
    "user = \"admin\"\n",
    "password = \"123456\"\n",
    "host = \"127.0.0.1\"\n",
    "port = \"5432\"\n",
    "database = \"postgres\""
   ]
  },
  {
   "cell_type": "code",
   "execution_count": 6,
   "metadata": {},
   "outputs": [
    {
     "name": "stdout",
     "output_type": "stream",
     "text": [
      "Error al conectar a PostgreSQL connection to server at \"127.0.0.1\", port 5432 failed: FATAL:  password authentication failed for user \"admin\"\n",
      "\n"
     ]
    },
    {
     "ename": "NameError",
     "evalue": "name 'conexion' is not defined",
     "output_type": "error",
     "traceback": [
      "\u001b[1;31m---------------------------------------------------------------------------\u001b[0m",
      "\u001b[1;31mNameError\u001b[0m                                 Traceback (most recent call last)",
      "Cell \u001b[1;32mIn[6], line 9\u001b[0m\n\u001b[0;32m      7\u001b[0m     \u001b[38;5;28mprint\u001b[39m(\u001b[38;5;124m\"\u001b[39m\u001b[38;5;124mError al conectar a PostgreSQL\u001b[39m\u001b[38;5;124m\"\u001b[39m, error)\n\u001b[0;32m      8\u001b[0m \u001b[38;5;28;01mfinally\u001b[39;00m:\n\u001b[1;32m----> 9\u001b[0m     \u001b[38;5;28;01mif\u001b[39;00m (\u001b[43mconexion\u001b[49m):\n\u001b[0;32m     10\u001b[0m         cursor\u001b[38;5;241m.\u001b[39mclose()\n\u001b[0;32m     11\u001b[0m         conexion\u001b[38;5;241m.\u001b[39mclose()\n",
      "\u001b[1;31mNameError\u001b[0m: name 'conexion' is not defined"
     ]
    }
   ],
   "source": [
    "try:\n",
    "    conexion = psycopg2.connect(user=user, password=password, host=host, port=port, database=database)\n",
    "    conexion.set_isolation_level(ISOLATION_LEVEL_AUTOCOMMIT)  \n",
    "    \n",
    "    cursor = conexion.cursor()\n",
    "except (Exception, psycopg2.Error) as error:\n",
    "    print(\"Error al conectar a PostgreSQL\", error)\n",
    "finally:\n",
    "    # if (conexion):\n",
    "    #     cursor.close()\n",
    "    #     conexion.close()\n",
    "    print(\"La conexión a PostgreSQL está cerrada\")\n",
    "    \n",
    "    "
   ]
  },
  {
   "cell_type": "code",
   "execution_count": null,
   "metadata": {},
   "outputs": [],
   "source": [
    "\n",
    "\n",
    "# Paso 3: Establecer la conexión\n",
    "try:\n",
    "    conexion = psycopg2.connect(\n",
    "        user = \"tu_usuario\", # Reemplaza con tu usuario de PostgreSQL\n",
    "        password = \"tu_contraseña\", # Reemplaza con tu contraseña de PostgreSQL\n",
    "        host = \"127.0.0.1\", # Este es el host local por defecto para PostgreSQL\n",
    "        port = \"5432\", # Este es el puerto por defecto para PostgreSQL\n",
    "        database = \"nombre_de_tu_base_de_datos\" # Reemplaza con el nombre de tu base de datos\n",
    "    )\n",
    "    \n",
    "    # Paso 4: Crear un cursor\n",
    "    cursor = conexion.cursor()\n",
    "    \n",
    "    # Aquí puedes comenzar a ejecutar comandos SQL usando el cursor...\n",
    "    \n",
    "except (Exception, psycopg2.Error) as error:\n",
    "    print(\"Error al conectar a PostgreSQL\", error)\n",
    "finally:\n",
    "    if (conexion):\n",
    "        cursor.close()\n",
    "        conexion.close()\n",
    "        print(\"La conexión a PostgreSQL está cerrada\")"
   ]
  }
 ],
 "metadata": {
  "kernelspec": {
   "display_name": "venv",
   "language": "python",
   "name": "python3"
  },
  "language_info": {
   "codemirror_mode": {
    "name": "ipython",
    "version": 3
   },
   "file_extension": ".py",
   "mimetype": "text/x-python",
   "name": "python",
   "nbconvert_exporter": "python",
   "pygments_lexer": "ipython3",
   "version": "3.12.3"
  }
 },
 "nbformat": 4,
 "nbformat_minor": 2
}
