{
 "cells": [
  {
   "cell_type": "code",
   "execution_count": null,
   "metadata": {},
   "outputs": [],
   "source": [
    "# !pip install psycopg2-binary"
   ]
  },
  {
   "cell_type": "code",
   "execution_count": 31,
   "metadata": {},
   "outputs": [],
   "source": [
    "import psycopg2\n",
    "from psycopg2 import sql\n",
    "from psycopg2.extensions import ISOLATION_LEVEL_AUTOCOMMIT\n",
    "import os"
   ]
  },
  {
   "cell_type": "code",
   "execution_count": 2,
   "metadata": {},
   "outputs": [],
   "source": [
    "DB_PARAMS = {\n",
    "    \"user\": \"postgres\",\n",
    "    \"password\": \"123456\",\n",
    "    \"host\": \"127.0.0.1\",\n",
    "    \"port\": \"5432\",\n",
    "    \"database\": \"postgres\"  \n",
    "}\n",
    "\n",
    "DB_NAME = \"lego_database\""
   ]
  },
  {
   "cell_type": "code",
   "execution_count": 9,
   "metadata": {},
   "outputs": [],
   "source": [
    "def database_exists(conn, db_name):\n",
    "    \"\"\"\n",
    "    Verifica si una base de datos ya existe.\n",
    "    \"\"\"\n",
    "    with conn.cursor() as cur:\n",
    "        cur.execute(\"SELECT 1 FROM pg_database WHERE datname=%s\", (db_name,))\n",
    "        return cur.fetchone() is not None"
   ]
  },
  {
   "cell_type": "code",
   "execution_count": 3,
   "metadata": {},
   "outputs": [],
   "source": [
    "def execute_sql_from_file(conn, file_path, **kwargs):\n",
    "    \"\"\"\n",
    "    Executes SQL commands from a given file.\n",
    "    \"\"\"\n",
    "    with open(file_path, 'r') as file:\n",
    "        sql = file.read().format(**kwargs)\n",
    "    with conn.cursor() as cur:\n",
    "        cur.execute(sql)"
   ]
  },
  {
   "cell_type": "code",
   "execution_count": 33,
   "metadata": {},
   "outputs": [],
   "source": [
    "def create_database(connection_params, db_name):\n",
    "    try:\n",
    "        # Conectar a la base de datos predeterminada para realizar la verificación y creación\n",
    "        conn = psycopg2.connect(**connection_params)\n",
    "        conn.set_isolation_level(ISOLATION_LEVEL_AUTOCOMMIT)\n",
    "        with conn.cursor() as cur:\n",
    "            # Verificar si la base de datos ya existe\n",
    "            cur.execute(\"SELECT 1 FROM pg_database WHERE datname = %s\", (db_name,))\n",
    "            exists = cur.fetchone()\n",
    "            if exists:\n",
    "                print(f\"Database '{db_name}' already exists.\")\n",
    "            else:\n",
    "                # Ejecutar el comando CREATE DATABASE si no existe\n",
    "                cur.execute(f\"CREATE DATABASE {db_name}\")\n",
    "                DB_PARAMS[\"database\"] = db_name\n",
    "                print(f\"Database '{db_name}' created successfully.\")\n",
    "        conn.close()\n",
    "\n",
    "    except Exception as e:\n",
    "        print(f\"Error creating database: {e}\")"
   ]
  },
  {
   "cell_type": "code",
   "execution_count": 42,
   "metadata": {},
   "outputs": [],
   "source": [
    "def create_tables(db_params):\n",
    "    \"\"\"\n",
    "    Creates tables in the database.\n",
    "    \"\"\"\n",
    "    \n",
    "    sql_files = [\n",
    "    'create_colors_table.sql',\n",
    "    'create_part_categories_table.sql',\n",
    "    'create_parts_table.sql',\n",
    "    'create_themes_table.sql',\n",
    "    'create_sets_table.sql',\n",
    "    'create_inventories_table.sql',\n",
    "    'create_inventory_parts_table.sql',\n",
    "    'create_inventory_sets_table.sql'\n",
    "]\n",
    "\n",
    "    try:\n",
    "        with psycopg2.connect(**db_params) as conn:\n",
    "            conn.set_session(autocommit=True)\n",
    "            \n",
    "            for sql_file in sql_files:\n",
    "                execute_sql_from_file(conn, f'sql/{sql_file}')\n",
    "                print(f\"Table from '{sql_file}' created.\")\n",
    "    except Exception as e:\n",
    "        print(f\"Error creating tables: {e}\")"
   ]
  },
  {
   "cell_type": "code",
   "execution_count": 43,
   "metadata": {},
   "outputs": [
    {
     "name": "stdout",
     "output_type": "stream",
     "text": [
      "Database 'lego_database' already exists.\n"
     ]
    }
   ],
   "source": [
    "create_database(DB_PARAMS, DB_NAME)"
   ]
  },
  {
   "cell_type": "code",
   "execution_count": 44,
   "metadata": {},
   "outputs": [
    {
     "name": "stdout",
     "output_type": "stream",
     "text": [
      "Table from 'create_colors_table.sql' created.\n",
      "Table from 'create_part_categories_table.sql' created.\n",
      "Table from 'create_parts_table.sql' created.\n",
      "Table from 'create_themes_table.sql' created.\n",
      "Table from 'create_sets_table.sql' created.\n",
      "Table from 'create_inventories_table.sql' created.\n",
      "Table from 'create_inventory_parts_table.sql' created.\n",
      "Table from 'create_inventory_sets_table.sql' created.\n"
     ]
    }
   ],
   "source": [
    "create_tables(DB_PARAMS)"
   ]
  },
  {
   "cell_type": "markdown",
   "metadata": {},
   "source": [
    "# Consultas."
   ]
  },
  {
   "cell_type": "code",
   "execution_count": 36,
   "metadata": {},
   "outputs": [],
   "source": [
    "def execute_query(db_params, query):\n",
    "    \"\"\"\n",
    "    Ejecuta una consulta SQL en la base de datos especificada.\n",
    "\n",
    "    Parámetros:\n",
    "    - db_params: Un diccionario con los parámetros de conexión a la base de datos.\n",
    "                 Ejemplo: {'dbname': 'mi_base_de_datos', 'user': 'usuario', 'password': 'contraseña', 'host': 'localhost'}\n",
    "    - query: La consulta SQL a ejecutar como una cadena de texto.\n",
    "    \"\"\"\n",
    "    try:\n",
    "        # Establecer conexión con la base de datos\n",
    "        conn = psycopg2.connect(**db_params)\n",
    "        conn.set_isolation_level(ISOLATION_LEVEL_AUTOCOMMIT)\n",
    "        cursor = conn.cursor()\n",
    "        \n",
    "        # Ejecutar la consulta\n",
    "        cursor.execute(sql.SQL(query))\n",
    "        \n",
    "        # Si la consulta es de selección, fetch results\n",
    "        if query.strip().lower().startswith(\"select\"):\n",
    "            records = cursor.fetchall()\n",
    "            return records\n",
    "        else:\n",
    "            print(\"Consulta ejecutada exitosamente.\")\n",
    "        \n",
    "    except (Exception, psycopg2.DatabaseError) as error:\n",
    "        print(f\"Error al ejecutar la consulta: {error}\")\n",
    "    finally:\n",
    "        if conn is not None:\n",
    "            cursor.close()\n",
    "            conn.close()\n",
    "            print(\"Conexión cerrada.\")"
   ]
  },
  {
   "cell_type": "code",
   "execution_count": 37,
   "metadata": {},
   "outputs": [
    {
     "name": "stdout",
     "output_type": "stream",
     "text": [
      "Conexión cerrada.\n"
     ]
    },
    {
     "data": {
      "text/plain": [
       "[]"
      ]
     },
     "execution_count": 37,
     "metadata": {},
     "output_type": "execute_result"
    }
   ],
   "source": [
    "query = \"select * from colors\"\n",
    "execute_query(DB_PARAMS, query)"
   ]
  }
 ],
 "metadata": {
  "kernelspec": {
   "display_name": "venv",
   "language": "python",
   "name": "python3"
  },
  "language_info": {
   "codemirror_mode": {
    "name": "ipython",
    "version": 3
   },
   "file_extension": ".py",
   "mimetype": "text/x-python",
   "name": "python",
   "nbconvert_exporter": "python",
   "pygments_lexer": "ipython3",
   "version": "3.12.3"
  }
 },
 "nbformat": 4,
 "nbformat_minor": 2
}
